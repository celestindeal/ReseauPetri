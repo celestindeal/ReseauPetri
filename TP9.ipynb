{
 "cells": [
  {
   "cell_type": "markdown",
   "metadata": {},
   "source": [
    "# 1. Génération du graphe des marquages accessibles\n",
    "\n",
    "Implémenter l'algorithme suivant, qui génère le graphe des marquages\n",
    "accessibles `(V,E)` d'un réseau de Petri borné.\n",
    "\n",
    "* Initialiser une pile `S` contenant le marquage initial.\n",
    "* `V` contient initialement le marquage initial.\n",
    "* Tant que `S` est non vide, \n",
    "  - Dépiler le sommet `M`\n",
    "  - Pour chaque transition `t` admissible depuis `M`, calculer `M'` obtenu après franchissement de `t`.\n",
    "  - Si `M'` n'est pas dans `V`, l'ajouter et empiler `M'`.\n",
    "  - Ajouter l'arc `M->M'` étiqueté par `t` à `E`"
   ]
  },
  {
   "cell_type": "code",
   "execution_count": null,
   "metadata": {},
   "outputs": [],
   "source": [
    "def graphe(P,T,pre,post,m):\n",
    "    V=[]\n",
    "    E=[]\n",
    "    return(V,E)"
   ]
  },
  {
   "cell_type": "markdown",
   "metadata": {},
   "source": [
    "# 2. Model checking\n",
    "\n",
    "Écrire une fonction qui teste si un réseau de Petri borné est bloquant, et une qui renvoie un marquage bloqué le cas échéant."
   ]
  },
  {
   "cell_type": "code",
   "execution_count": 2,
   "metadata": {},
   "outputs": [],
   "source": [
    "def estbloquant(P,T,pre,post,m):\n",
    "    # teste si un reseau est bloquant\n",
    "    return False"
   ]
  },
  {
   "cell_type": "markdown",
   "metadata": {},
   "source": [
    "Écrire une fonction qui teste si un réseau de Petri borné est propre et qui renvoie un marquage accessible M d’où on ne peut revenir au marquage initial le cas échéant."
   ]
  },
  {
   "cell_type": "code",
   "execution_count": 1,
   "metadata": {},
   "outputs": [],
   "source": [
    "def estpropre(P,T,pre,post,m):\n",
    "    # teste si un reseau est propre\n",
    "    return True\n"
   ]
  },
  {
   "cell_type": "markdown",
   "metadata": {},
   "source": [
    "Écrire une fonction qui teste si un réseau de Petri borné est quasi-vivant et qui renvoie une transition non-quasi-vivante le cas échéant."
   ]
  },
  {
   "cell_type": "code",
   "execution_count": null,
   "metadata": {},
   "outputs": [],
   "source": [
    "def estqv(P,T,pre,post,m):\n",
    "    # teste si un reseau est quasi-vivant\n",
    "    return False"
   ]
  },
  {
   "cell_type": "markdown",
   "metadata": {},
   "source": [
    "Écrire une fonction qui teste si un réseau de Petri borné est vivant et qui renvoie un marquage accessible M et une transition non-vivante à partir de M le cas échéant."
   ]
  },
  {
   "cell_type": "code",
   "execution_count": 4,
   "metadata": {},
   "outputs": [],
   "source": [
    "def estvivant(P,T,pre,post,m):\n",
    "    # teste si un reseau est vivant\n",
    "    return False"
   ]
  },
  {
   "cell_type": "markdown",
   "metadata": {},
   "source": [
    "# 3. Mise en pratique\n",
    "\n",
    "On considère un protocole de connexion/déconnexion d'un client à un serveur:\n",
    "* Le client initie la connexion en envoyant une demande de connexion DC, puis attend.\n",
    "* Le serveur, à la réception de DC, envoie CC (confirmation de connexion) puis passe dans l'état connecté.\n",
    "* Le client passe dans l'état connecté à la réception de CC.\n",
    "\n",
    "Pour la déconnexion,\n",
    "* Le client OU le serveur envoie une demande de déconnexion DD puis attend.\n",
    "* L'autre machine envoie CD (confirmation de déconnexion) à la réception de DD, puis passe dans l'état déconnecté.\n",
    "* À la réception de DD, la première machine passe dans l'état déconnecté.\n"
   ]
  },
  {
   "cell_type": "code",
   "execution_count": null,
   "metadata": {},
   "outputs": [],
   "source": [
    "# Le réseau modélisant le système\n",
    "\n",
    "P = 13\n",
    "T = 9\n",
    "pre = []\n",
    "post = []\n",
    "m = ()\n",
    "\n",
    "print(estborne(P,T,pre,post,m))\n",
    "print(estbloquant(P,T,pre,post,m))\n",
    "print(marquagebloque(P,T,pre,post,m))\n"
   ]
  }
 ],
 "metadata": {
  "kernelspec": {
   "display_name": "Python 3",
   "language": "python",
   "name": "python3"
  },
  "language_info": {
   "codemirror_mode": {
    "name": "ipython",
    "version": 3
   },
   "file_extension": ".py",
   "mimetype": "text/x-python",
   "name": "python",
   "nbconvert_exporter": "python",
   "pygments_lexer": "ipython3",
   "version": "3.8.10"
  }
 },
 "nbformat": 4,
 "nbformat_minor": 4
}
